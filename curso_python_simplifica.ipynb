{
  "nbformat": 4,
  "nbformat_minor": 0,
  "metadata": {
    "colab": {
      "provenance": [],
      "authorship_tag": "ABX9TyPxvNrV7xR7sw7nRs6BXJWn",
      "include_colab_link": true
    },
    "kernelspec": {
      "name": "python3",
      "display_name": "Python 3"
    },
    "language_info": {
      "name": "python"
    }
  },
  "cells": [
    {
      "cell_type": "markdown",
      "metadata": {
        "id": "view-in-github",
        "colab_type": "text"
      },
      "source": [
        "<a href=\"https://colab.research.google.com/github/raquelrsm/curso-python/blob/main/curso_python_simplifica.ipynb\" target=\"_parent\"><img src=\"https://colab.research.google.com/assets/colab-badge.svg\" alt=\"Open In Colab\"/></a>"
      ]
    },
    {
      "cell_type": "markdown",
      "source": [
        "# **Módulo 01 do curso Simplifica Python: Do Zero ao Expert**"
      ],
      "metadata": {
        "id": "rgkCnl9G6kDC"
      }
    },
    {
      "cell_type": "markdown",
      "source": [
        "##**[T01]: Primeiros passos com Python**"
      ],
      "metadata": {
        "id": "yy6B-P0n2Ct-"
      }
    },
    {
      "cell_type": "markdown",
      "source": [
        "### **Primeiro programa em Python**"
      ],
      "metadata": {
        "id": "Qjpl0E9v2Wnl"
      }
    },
    {
      "cell_type": "code",
      "execution_count": null,
      "metadata": {
        "colab": {
          "base_uri": "https://localhost:8080/"
        },
        "id": "zFULUA0A14fO",
        "outputId": "e6f82979-898a-4653-f4be-74be111e1af7"
      },
      "outputs": [
        {
          "output_type": "stream",
          "name": "stdout",
          "text": [
            "Olá, Pythonistas!\n"
          ]
        }
      ],
      "source": [
        "#Programa para exibir na tela\n",
        "\n",
        "print('Olá, Pythonistas!')"
      ]
    },
    {
      "cell_type": "code",
      "source": [
        "#Tudo que é inserido dentro das aspas será exibidio na tela quando tiver o comando print\n",
        "\n",
        "print('Eu vou conseguir!')"
      ],
      "metadata": {
        "colab": {
          "base_uri": "https://localhost:8080/"
        },
        "id": "9h5HaENd2xQ8",
        "outputId": "ba077bee-5acd-491e-8f3d-efb2ca6e0179"
      },
      "execution_count": null,
      "outputs": [
        {
          "output_type": "stream",
          "name": "stdout",
          "text": [
            "Eu vou conseguir!\n"
          ]
        }
      ]
    },
    {
      "cell_type": "code",
      "source": [
        "#Muito cuidado com o uso de números\n",
        "\n",
        "print('5+2')\n"
      ],
      "metadata": {
        "colab": {
          "base_uri": "https://localhost:8080/"
        },
        "id": "w-iYA_5V25MQ",
        "outputId": "b855494e-5345-4236-bbc5-04384b70a068"
      },
      "execution_count": null,
      "outputs": [
        {
          "output_type": "stream",
          "name": "stdout",
          "text": [
            "5+2\n"
          ]
        }
      ]
    },
    {
      "cell_type": "code",
      "source": [
        "#Sem aspas ele executa uma operação aritmética\n",
        "print(5+2)"
      ],
      "metadata": {
        "colab": {
          "base_uri": "https://localhost:8080/"
        },
        "id": "rPBs_J6e2-JM",
        "outputId": "887f7a25-69be-4378-a894-ee02f4a62d19"
      },
      "execution_count": null,
      "outputs": [
        {
          "output_type": "stream",
          "name": "stdout",
          "text": [
            "7\n"
          ]
        }
      ]
    },
    {
      "cell_type": "code",
      "source": [
        "#Realizando operações\n",
        "\n",
        "print(5*2)\n",
        "print(6/2)\n",
        "print(34+6)\n",
        "print(34-10)"
      ],
      "metadata": {
        "colab": {
          "base_uri": "https://localhost:8080/"
        },
        "id": "R-qDqoZz3DFu",
        "outputId": "253122c9-11ff-4e59-dd3f-d9d64989f394"
      },
      "execution_count": null,
      "outputs": [
        {
          "output_type": "stream",
          "name": "stdout",
          "text": [
            "10\n",
            "3.0\n",
            "40\n",
            "24\n"
          ]
        }
      ]
    },
    {
      "cell_type": "markdown",
      "source": [
        "### **Operadores Aritméticos**"
      ],
      "metadata": {
        "id": "ST3o4BfiigO2"
      }
    },
    {
      "cell_type": "code",
      "source": [
        "''' Python é uma linguagem de programação versátil que suporta uma ampla variedade de operações aritméticas para realizar cálculos matemáticos.\n",
        "\n",
        "✔ Adição (+)\n",
        "✔ Subtração (-)\n",
        "✔ Multiplicação (\\*)\n",
        "✔ Divisão (/)\n",
        "✔ Módulo (%)\n",
        "✔ Potência (**)\n",
        "'''\n",
        "\n",
        "#Como conheço as outras, vou focar no conceito do módulo e potência, que às vezes eu esqueço.\n",
        "#O módulo (%) fornece o resto da operação de divisão.\n",
        "\n",
        "modulo = 20%5\n",
        "print('O módulo da operação 20 / 5 é: ',modulo)"
      ],
      "metadata": {
        "colab": {
          "base_uri": "https://localhost:8080/"
        },
        "id": "hAU188PEiro0",
        "outputId": "61ac3131-fb44-4e6a-9b18-0c6408e739c7"
      },
      "execution_count": null,
      "outputs": [
        {
          "output_type": "stream",
          "name": "stdout",
          "text": [
            "O módulo da operação 20 / 5 é:  0\n"
          ]
        }
      ]
    },
    {
      "cell_type": "code",
      "source": [
        "modulo2 = 21 % 5\n",
        "print('O módulo da operação 21 / 5 é: ',modulo2)"
      ],
      "metadata": {
        "colab": {
          "base_uri": "https://localhost:8080/"
        },
        "id": "AgU9UbC_krQC",
        "outputId": "0bff528a-1abe-4d5a-dc27-e9c9f3dec278"
      },
      "execution_count": null,
      "outputs": [
        {
          "output_type": "stream",
          "name": "stdout",
          "text": [
            "O módulo da operação 21 / 5 é:  1\n"
          ]
        }
      ]
    },
    {
      "cell_type": "code",
      "source": [
        "# Potência (**)\n",
        "\n",
        "potencia = 3**2\n",
        "print('O resultado da operação 3 elevado a 2 é: ',potencia)\n"
      ],
      "metadata": {
        "colab": {
          "base_uri": "https://localhost:8080/"
        },
        "id": "VwsUBgjilCd4",
        "outputId": "114953f2-9635-460c-b2a3-e3f8047d085d"
      },
      "execution_count": null,
      "outputs": [
        {
          "output_type": "stream",
          "name": "stdout",
          "text": [
            "O resultado da operação 3 elevado a 2 é:  9\n"
          ]
        }
      ]
    },
    {
      "cell_type": "code",
      "source": [
        "potencia2 = 2**4\n",
        "print('O resultado da operação 3 elevado a 2 é: ',potencia2)\n"
      ],
      "metadata": {
        "colab": {
          "base_uri": "https://localhost:8080/"
        },
        "id": "ptNaaDJ7lMfB",
        "outputId": "b8fe7840-2145-4dc0-a2bc-380ca9495ac7"
      },
      "execution_count": null,
      "outputs": [
        {
          "output_type": "stream",
          "name": "stdout",
          "text": [
            "O resultado da operação 3 elevado a 2 é:  16\n"
          ]
        }
      ]
    },
    {
      "cell_type": "markdown",
      "source": [
        "##**[T01]: Variáveis**"
      ],
      "metadata": {
        "id": "yJtSBKwOlvNf"
      }
    },
    {
      "cell_type": "markdown",
      "source": [
        "O que são variáveis?\n",
        "Variáveis, em Python, são lugares, nos programas, que são utilizadas para armazenar informações. Atribuímos informações às variáveis através do sinal de = (igual). Exemplos:\n",
        "\n",
        "1. idade = 40\n",
        "2. nome = 'joão'\n",
        "3. peso = 72\n",
        "\n"
      ],
      "metadata": {
        "id": "hkjlR5wQt3Lp"
      }
    },
    {
      "cell_type": "markdown",
      "source": [
        "### **Introdução às Variáveis**"
      ],
      "metadata": {
        "id": "12S_fSorl5QT"
      }
    },
    {
      "cell_type": "markdown",
      "source": [
        "**Declaração de Variáveis**\n",
        "\n",
        "**a) Atribuição de Valor**\n",
        "* Em Python, você não precisa declarar o tipo de uma variável explicitamente. O interpretador Python identifica automaticamente o tipo de dados com base no valor atribuído à variável.\n",
        "* Para declarar uma variável, basta dar um nome a ela e atribuir um valor usando o operador de atribuição =."
      ],
      "metadata": {
        "id": "1clRXS0TmHCF"
      }
    },
    {
      "cell_type": "code",
      "source": [
        "idade = 37\n",
        "peso = 98.50\n",
        "nome = \"Raquel\"\n",
        "\n",
        "#Imprimindo uma informação de cada vez\n",
        "print(idade)\n",
        "print(peso)\n",
        "print(nome)"
      ],
      "metadata": {
        "colab": {
          "base_uri": "https://localhost:8080/"
        },
        "id": "_T-OuMrN23-y",
        "outputId": "e68ea7d0-b409-4919-b938-53bcee8176f8"
      },
      "execution_count": null,
      "outputs": [
        {
          "output_type": "stream",
          "name": "stdout",
          "text": [
            "37\n",
            "98.5\n",
            "Raquel\n"
          ]
        }
      ]
    },
    {
      "cell_type": "code",
      "source": [
        "#Mas é possível imprimir tudo em um único print\n",
        "\n",
        "print('Dados pessoais:', 'Idade:', idade,'Peso:', peso,'Nome:', nome)"
      ],
      "metadata": {
        "colab": {
          "base_uri": "https://localhost:8080/"
        },
        "id": "22Fb8QIK3hDs",
        "outputId": "9c4e80ef-1e2c-453d-fdf8-34ccc8f52319"
      },
      "execution_count": null,
      "outputs": [
        {
          "output_type": "stream",
          "name": "stdout",
          "text": [
            "Dados pessoais: Idade: 37 Peso: 98.5 Nome: Raquel\n"
          ]
        }
      ]
    },
    {
      "cell_type": "code",
      "source": [
        "#Uso do barra n (\\n): Esse operador é usado para quebrar a linha. Isso ajuda a formatar as saídas para que elas fiquem mais visíveis.\n",
        "\n",
        "print('Dados pessoais:\\n', 'Idade:', idade,'\\nPeso:', peso,'\\nNome:', nome)"
      ],
      "metadata": {
        "colab": {
          "base_uri": "https://localhost:8080/"
        },
        "id": "AdltAycF4GEg",
        "outputId": "5652fd12-d70d-44f6-e863-d04a49faaf05"
      },
      "execution_count": null,
      "outputs": [
        {
          "output_type": "stream",
          "name": "stdout",
          "text": [
            "Dados pessoais:\n",
            " Idade: 37 \n",
            "Peso: 98.5 \n",
            "Nome: Raquel\n"
          ]
        }
      ]
    },
    {
      "cell_type": "markdown",
      "source": [
        "### **Tipos de Variáveis**"
      ],
      "metadata": {
        "id": "gLOCYMHD440C"
      }
    },
    {
      "cell_type": "code",
      "source": [
        "#Iteiro - número inteiro. Exemplo: Idade = 37\n",
        "idade = 37\n",
        "\n",
        "#Float - número que possuem vírgulas (possuem pontos flutuantes). Exemplo\n",
        "peso = 98.50\n",
        "\n",
        "#String - cadeias de caracteres (palavras). Sempre que for declara, essa informação deve estar dentro de aspas\n",
        "nome = 'Raquel'\n",
        "\n",
        "#Booleana - lógica - pode possuir valor de verdadeiro (true) ou falso (false)\n",
        "verdadeiro = True\n",
        "falso = False\n"
      ],
      "metadata": {
        "id": "cm9tVmgV49fP"
      },
      "execution_count": null,
      "outputs": []
    },
    {
      "cell_type": "markdown",
      "source": [
        "###**Tipagem Dinâmica**"
      ],
      "metadata": {
        "id": "AlqOPo_MwbIM"
      }
    },
    {
      "cell_type": "markdown",
      "source": [
        "A definição do **Tipos de Dados** no Python é realizada em tempo de execução. Não precisa dizer ao Python que tipo de dados uma variável recebe. Para saber qual o tipo de variável é, podemos usar o comando **type**"
      ],
      "metadata": {
        "id": "BfmhxyM3wknQ"
      }
    },
    {
      "cell_type": "code",
      "source": [
        "idade = 30\n",
        "peso = 69.30\n",
        "nome = 'Yan'\n",
        "\n",
        "print(type(idade))\n",
        "print(type(peso))\n",
        "print(type(nome))"
      ],
      "metadata": {
        "colab": {
          "base_uri": "https://localhost:8080/"
        },
        "id": "KYj4CuSVwduO",
        "outputId": "2bf4ba41-aaa8-42a3-8b1e-aed75553d6c7"
      },
      "execution_count": null,
      "outputs": [
        {
          "output_type": "stream",
          "name": "stdout",
          "text": [
            "<class 'int'>\n",
            "<class 'float'>\n",
            "<class 'str'>\n"
          ]
        }
      ]
    },
    {
      "cell_type": "markdown",
      "source": [
        "## **[T01]: Outros recursos e Conceitos importantes**"
      ],
      "metadata": {
        "id": "lTgmd9-dyen8"
      }
    },
    {
      "cell_type": "markdown",
      "source": [
        "**Palavras reservadas:** São palavras **reservadas** ao programa Python e que não podem ser usadas para definição de variáveis e etc.\n",
        "**Temos como exemplos:** for, while, else, break, from, is, print, return, class, or e etc."
      ],
      "metadata": {
        "id": "gi_DEyCLzLi7"
      }
    },
    {
      "cell_type": "markdown",
      "source": [
        "**Entrada de Dados:** É o momento em que recebemos informações do usuário ou de outras fontes usando diferentes métodos. Vamos começar com a função **input()**.\n",
        "\n",
        "A função **input()** é a maneira mais comum de receber entrada do usuário em Python. Essa função permite que solicitemos ao usuário que ele insira informações através do teclado. O valor inserido é tratado como uma sequência de caracteres (strings)."
      ],
      "metadata": {
        "id": "YydCoqv52yha"
      }
    },
    {
      "cell_type": "code",
      "source": [
        "#Primeira forma de fazer para exibir a saída do que foi digitado em um determinado programa\n",
        "\n",
        "nome = input('Digite seu nome: ')\n",
        "print('Olá, '+ nome +'!')"
      ],
      "metadata": {
        "colab": {
          "base_uri": "https://localhost:8080/"
        },
        "id": "iB6lQhQOyshe",
        "outputId": "e9437af1-e70a-4694-f0bb-f0052a604e38"
      },
      "execution_count": null,
      "outputs": [
        {
          "output_type": "stream",
          "name": "stdout",
          "text": [
            "Digite seu nome: Raquel\n",
            "Olá, Raquel!\n"
          ]
        }
      ]
    },
    {
      "cell_type": "code",
      "source": [
        "#Outra maneira de fazer para exibir a saída do que doi digitado: usando f-string. O que fica dentro do colchete {} é a variável que deverá aparecer na saída.\n",
        "\n",
        "nome = input('Escreva seu nome: ')\n",
        "idade = input('Escreva sua idade: ')\n",
        "print(f'Olá, {nome}, sua idade é {idade}!')"
      ],
      "metadata": {
        "colab": {
          "base_uri": "https://localhost:8080/"
        },
        "id": "3IEFqH7n4-Ag",
        "outputId": "e5559490-7861-4bee-99eb-fcbef1bd4442"
      },
      "execution_count": null,
      "outputs": [
        {
          "output_type": "stream",
          "name": "stdout",
          "text": [
            "Escreva seu nome: Raquel\n",
            "Escreva sua idade: 37\n",
            "Olá, Raquel, sua idade é 37!\n"
          ]
        }
      ]
    },
    {
      "cell_type": "markdown",
      "source": [
        "## **[T01]: Operadores**"
      ],
      "metadata": {
        "id": "iXVcuphb7CxR"
      }
    },
    {
      "cell_type": "markdown",
      "source": [
        "###**Operadores Relacionais**"
      ],
      "metadata": {
        "id": "0-co-0T081YD"
      }
    },
    {
      "cell_type": "code",
      "source": [
        "#São usados para comparara valores e expressões, retornando um valor booleano (verdadeiro ou falso), que indica se a comparação é verdadeira ou não.\n",
        "# > maior\n",
        "# < menor\n",
        "# == igual\n",
        "# >= maior igual\n",
        "# <= menor igual\n",
        "# != diferente\n",
        "\n",
        "#Exemplos\n",
        "\n",
        "10 > 5"
      ],
      "metadata": {
        "colab": {
          "base_uri": "https://localhost:8080/"
        },
        "id": "gKgObiQS7JRN",
        "outputId": "01cdc1d0-8b92-401d-ce35-ec7faa615775"
      },
      "execution_count": null,
      "outputs": [
        {
          "output_type": "execute_result",
          "data": {
            "text/plain": [
              "True"
            ]
          },
          "metadata": {},
          "execution_count": 38
        }
      ]
    },
    {
      "cell_type": "code",
      "source": [
        "6 > 7"
      ],
      "metadata": {
        "colab": {
          "base_uri": "https://localhost:8080/"
        },
        "id": "ZC__ADfD7s9y",
        "outputId": "ce06a9da-590d-4385-ef8f-9812a8ed195e"
      },
      "execution_count": null,
      "outputs": [
        {
          "output_type": "execute_result",
          "data": {
            "text/plain": [
              "False"
            ]
          },
          "metadata": {},
          "execution_count": 26
        }
      ]
    },
    {
      "cell_type": "code",
      "source": [
        "60 >=60"
      ],
      "metadata": {
        "colab": {
          "base_uri": "https://localhost:8080/"
        },
        "id": "xr4qsWaX7x3B",
        "outputId": "86b676c1-9850-477f-87a8-368c78bf94cd"
      },
      "execution_count": null,
      "outputs": [
        {
          "output_type": "execute_result",
          "data": {
            "text/plain": [
              "True"
            ]
          },
          "metadata": {},
          "execution_count": 27
        }
      ]
    },
    {
      "cell_type": "code",
      "source": [
        "60>60"
      ],
      "metadata": {
        "colab": {
          "base_uri": "https://localhost:8080/"
        },
        "id": "rZpKlVH_714y",
        "outputId": "f2ded24e-bdfd-46eb-f621-2ee6aee47aac"
      },
      "execution_count": null,
      "outputs": [
        {
          "output_type": "execute_result",
          "data": {
            "text/plain": [
              "False"
            ]
          },
          "metadata": {},
          "execution_count": 28
        }
      ]
    },
    {
      "cell_type": "code",
      "source": [
        "12 != 12"
      ],
      "metadata": {
        "colab": {
          "base_uri": "https://localhost:8080/"
        },
        "id": "58KgW_99729u",
        "outputId": "5c9cd1ad-9fbb-498b-be9c-471348294532"
      },
      "execution_count": null,
      "outputs": [
        {
          "output_type": "execute_result",
          "data": {
            "text/plain": [
              "False"
            ]
          },
          "metadata": {},
          "execution_count": 29
        }
      ]
    },
    {
      "cell_type": "code",
      "source": [
        "12 !=13"
      ],
      "metadata": {
        "colab": {
          "base_uri": "https://localhost:8080/"
        },
        "id": "DsCQcdrF77iV",
        "outputId": "0173d91f-e811-4d21-d0b3-3078862b4c7d"
      },
      "execution_count": null,
      "outputs": [
        {
          "output_type": "execute_result",
          "data": {
            "text/plain": [
              "True"
            ]
          },
          "metadata": {},
          "execution_count": 30
        }
      ]
    },
    {
      "cell_type": "code",
      "source": [
        "'banana' == 'banana'"
      ],
      "metadata": {
        "colab": {
          "base_uri": "https://localhost:8080/"
        },
        "id": "lcxED8JH79HR",
        "outputId": "af1863b1-8dcf-4ea2-c89d-6df586f0f031"
      },
      "execution_count": null,
      "outputs": [
        {
          "output_type": "execute_result",
          "data": {
            "text/plain": [
              "True"
            ]
          },
          "metadata": {},
          "execution_count": 31
        }
      ]
    },
    {
      "cell_type": "code",
      "source": [
        "#O Python é Case sensitive = ele faz diferenciação entre maíuscula e minúscula. Por esse motivo, na afirmativa abaixo, vai dar falso\n",
        "'Maçã' == 'maçã'"
      ],
      "metadata": {
        "colab": {
          "base_uri": "https://localhost:8080/"
        },
        "id": "OQCufODu8C8Y",
        "outputId": "8b4500e8-eb90-4fa3-97b0-6ad9164d1dff"
      },
      "execution_count": null,
      "outputs": [
        {
          "output_type": "execute_result",
          "data": {
            "text/plain": [
              "False"
            ]
          },
          "metadata": {},
          "execution_count": 32
        }
      ]
    },
    {
      "cell_type": "code",
      "source": [
        "#Python, ao tratar de strings, ele faz ordenação alfabética. B vem antes de m\n",
        "\n",
        "'banana' > 'Maçã'"
      ],
      "metadata": {
        "colab": {
          "base_uri": "https://localhost:8080/"
        },
        "id": "nR3UGFnt8GqM",
        "outputId": "40121614-e9fe-4809-8fe2-d8976fbe6493"
      },
      "execution_count": null,
      "outputs": [
        {
          "output_type": "execute_result",
          "data": {
            "text/plain": [
              "True"
            ]
          },
          "metadata": {},
          "execution_count": 33
        }
      ]
    },
    {
      "cell_type": "code",
      "source": [
        "nome1 = 'Raquel'\n",
        "nome2 = 'Yan'\n",
        "\n",
        "nome1 == nome2\n"
      ],
      "metadata": {
        "colab": {
          "base_uri": "https://localhost:8080/"
        },
        "id": "JGu1YOjH8Xu1",
        "outputId": "68ca60b3-329c-49eb-a390-97f31e22fb29"
      },
      "execution_count": null,
      "outputs": [
        {
          "output_type": "execute_result",
          "data": {
            "text/plain": [
              "False"
            ]
          },
          "metadata": {},
          "execution_count": 36
        }
      ]
    },
    {
      "cell_type": "code",
      "source": [
        "nome1 != nome2"
      ],
      "metadata": {
        "colab": {
          "base_uri": "https://localhost:8080/"
        },
        "id": "tPa5Oe_i8ox7",
        "outputId": "ab109a6d-e67b-4419-86ee-f8f881a2eb3b"
      },
      "execution_count": null,
      "outputs": [
        {
          "output_type": "execute_result",
          "data": {
            "text/plain": [
              "True"
            ]
          },
          "metadata": {},
          "execution_count": 37
        }
      ]
    },
    {
      "cell_type": "markdown",
      "source": [
        "### **Operadores Lógicos Parte I**\n",
        "\n",
        "Em Python, os operadores lógicos são símbolos que realização operações booleanas em valores. Os principais são: **and**, **or** e **not**."
      ],
      "metadata": {
        "id": "fXrNORDS9DtD"
      }
    },
    {
      "cell_type": "markdown",
      "source": [
        "####**1. Operador and**\n",
        "\n",
        "Para que a sentença seja VERDADEIRA é necessário que pelo que as duas afirmações sejam verdadeiras.\n",
        "\n",
        "![operador-and.png](data:image/png;base64,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)"
      ],
      "metadata": {
        "id": "7fkjfwnMcgR7"
      }
    },
    {
      "cell_type": "code",
      "source": [
        "(10>5) and (13>12)"
      ],
      "metadata": {
        "colab": {
          "base_uri": "https://localhost:8080/"
        },
        "id": "zO9UqQdU9NFv",
        "outputId": "ad4c6d7c-3f57-4544-f89f-852a6ec004fc"
      },
      "execution_count": null,
      "outputs": [
        {
          "output_type": "execute_result",
          "data": {
            "text/plain": [
              "True"
            ]
          },
          "metadata": {},
          "execution_count": 2
        }
      ]
    },
    {
      "cell_type": "code",
      "source": [
        "(6 < 7) and (3 > 4)"
      ],
      "metadata": {
        "colab": {
          "base_uri": "https://localhost:8080/"
        },
        "id": "50vrcG9adqIO",
        "outputId": "067671c8-88e2-4209-fcc0-4bdf21d74ec9"
      },
      "execution_count": null,
      "outputs": [
        {
          "output_type": "execute_result",
          "data": {
            "text/plain": [
              "False"
            ]
          },
          "metadata": {},
          "execution_count": 3
        }
      ]
    },
    {
      "cell_type": "code",
      "source": [
        "(7 == 8) and (3 > 1)"
      ],
      "metadata": {
        "colab": {
          "base_uri": "https://localhost:8080/"
        },
        "id": "1kCZZZdGdsOl",
        "outputId": "10756a0d-10ff-4b8b-faa9-917c1139738c"
      },
      "execution_count": null,
      "outputs": [
        {
          "output_type": "execute_result",
          "data": {
            "text/plain": [
              "False"
            ]
          },
          "metadata": {},
          "execution_count": 4
        }
      ]
    },
    {
      "cell_type": "code",
      "source": [
        "\"a\" < \"b\""
      ],
      "metadata": {
        "colab": {
          "base_uri": "https://localhost:8080/"
        },
        "id": "ZbXv8hlNdwoi",
        "outputId": "1a7e16c9-0b97-4c0d-a719-d4daf64ba46c"
      },
      "execution_count": null,
      "outputs": [
        {
          "output_type": "execute_result",
          "data": {
            "text/plain": [
              "True"
            ]
          },
          "metadata": {},
          "execution_count": 5
        }
      ]
    },
    {
      "cell_type": "code",
      "source": [
        "(23 != 23) and (15<=14)"
      ],
      "metadata": {
        "colab": {
          "base_uri": "https://localhost:8080/"
        },
        "id": "g-cFCtfbdysZ",
        "outputId": "87d09ace-8054-463f-f18a-b1030b2baeda"
      },
      "execution_count": null,
      "outputs": [
        {
          "output_type": "execute_result",
          "data": {
            "text/plain": [
              "False"
            ]
          },
          "metadata": {},
          "execution_count": 6
        }
      ]
    },
    {
      "cell_type": "markdown",
      "source": [
        "####**2. Operador or**\n",
        "Para que a afirmativa seja verdadeira, é necessário que apenas uma sentença seja verdadeira.\n",
        "\n",
        "![operador or.png](data:image/png;base64,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)"
      ],
      "metadata": {
        "id": "d1uctl2Sd7jH"
      }
    },
    {
      "cell_type": "code",
      "source": [
        "(10 == 10) or (15 > 14)"
      ],
      "metadata": {
        "colab": {
          "base_uri": "https://localhost:8080/"
        },
        "id": "kuOuYZ5Td6gY",
        "outputId": "bf23d19d-7325-4f8f-8d95-563bf692f4af"
      },
      "execution_count": null,
      "outputs": [
        {
          "output_type": "execute_result",
          "data": {
            "text/plain": [
              "True"
            ]
          },
          "metadata": {},
          "execution_count": 7
        }
      ]
    },
    {
      "cell_type": "code",
      "source": [
        "(10 < 20) or (3 > 4)"
      ],
      "metadata": {
        "colab": {
          "base_uri": "https://localhost:8080/"
        },
        "id": "-cbEUpnifle1",
        "outputId": "29692b01-c2ce-49f5-f612-cc3a00a01d5e"
      },
      "execution_count": null,
      "outputs": [
        {
          "output_type": "execute_result",
          "data": {
            "text/plain": [
              "True"
            ]
          },
          "metadata": {},
          "execution_count": 8
        }
      ]
    },
    {
      "cell_type": "code",
      "source": [
        "(5 < 1) or (10 != 23)"
      ],
      "metadata": {
        "colab": {
          "base_uri": "https://localhost:8080/"
        },
        "id": "Cx3I18Y0fmzl",
        "outputId": "3e582f38-ebd7-4697-f3d4-e0093fe4b70f"
      },
      "execution_count": null,
      "outputs": [
        {
          "output_type": "execute_result",
          "data": {
            "text/plain": [
              "True"
            ]
          },
          "metadata": {},
          "execution_count": 9
        }
      ]
    },
    {
      "cell_type": "code",
      "source": [
        "(12 > 15) or (2 > 3)"
      ],
      "metadata": {
        "colab": {
          "base_uri": "https://localhost:8080/"
        },
        "id": "6grppuKYfooh",
        "outputId": "eac01264-8bd4-40f6-ccbc-fd6fb810f0a9"
      },
      "execution_count": null,
      "outputs": [
        {
          "output_type": "execute_result",
          "data": {
            "text/plain": [
              "False"
            ]
          },
          "metadata": {},
          "execution_count": 10
        }
      ]
    },
    {
      "cell_type": "markdown",
      "source": [
        "####**3. Operador NOT**\n",
        "O operador NOT nega o valor de uma condição.\n",
        "\n",
        "![operador-not.png](data:image/png;base64,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)"
      ],
      "metadata": {
        "id": "JrVFS42XgBMx"
      }
    },
    {
      "cell_type": "code",
      "source": [
        "not True"
      ],
      "metadata": {
        "colab": {
          "base_uri": "https://localhost:8080/"
        },
        "id": "4AEWk2qXf5tN",
        "outputId": "81d76393-ca80-4757-eed8-866c907f6623"
      },
      "execution_count": null,
      "outputs": [
        {
          "output_type": "execute_result",
          "data": {
            "text/plain": [
              "False"
            ]
          },
          "metadata": {},
          "execution_count": 11
        }
      ]
    },
    {
      "cell_type": "code",
      "source": [
        "not False"
      ],
      "metadata": {
        "colab": {
          "base_uri": "https://localhost:8080/"
        },
        "id": "CLXF0q5-gt0a",
        "outputId": "5c65f4cd-d82f-4508-f8fc-b71893baac5d"
      },
      "execution_count": null,
      "outputs": [
        {
          "output_type": "execute_result",
          "data": {
            "text/plain": [
              "True"
            ]
          },
          "metadata": {},
          "execution_count": 12
        }
      ]
    },
    {
      "cell_type": "code",
      "source": [
        "not(1>2)"
      ],
      "metadata": {
        "colab": {
          "base_uri": "https://localhost:8080/"
        },
        "id": "eq8MvrQTgu-2",
        "outputId": "7ed0d3e0-99af-4260-b1e3-a072511973f2"
      },
      "execution_count": null,
      "outputs": [
        {
          "output_type": "execute_result",
          "data": {
            "text/plain": [
              "True"
            ]
          },
          "metadata": {},
          "execution_count": 13
        }
      ]
    },
    {
      "cell_type": "code",
      "source": [
        "not (10>5) or not (7>5)"
      ],
      "metadata": {
        "colab": {
          "base_uri": "https://localhost:8080/"
        },
        "id": "U7mG3rJlgw_h",
        "outputId": "519c1772-b7f8-492f-a6ee-3b68aef89a03"
      },
      "execution_count": null,
      "outputs": [
        {
          "output_type": "execute_result",
          "data": {
            "text/plain": [
              "False"
            ]
          },
          "metadata": {},
          "execution_count": 14
        }
      ]
    },
    {
      "cell_type": "markdown",
      "source": [
        "##**[T01]: Condicionais**"
      ],
      "metadata": {
        "id": "1UEMhWMdEiqL"
      }
    },
    {
      "cell_type": "markdown",
      "source": [
        "###**Estruturas do IF**"
      ],
      "metadata": {
        "id": "XNMAHuaCE5BH"
      }
    },
    {
      "cell_type": "code",
      "source": [],
      "metadata": {
        "id": "jJkaw6iOEpMi"
      },
      "execution_count": null,
      "outputs": []
    },
    {
      "cell_type": "markdown",
      "source": [
        "#**[T01] Projetos - Parte 01**\n"
      ],
      "metadata": {
        "id": "4yqg7wgmc9Gw"
      }
    },
    {
      "cell_type": "markdown",
      "source": [
        "##**Projeto 01 - Calculadora de Gorgeja**"
      ],
      "metadata": {
        "id": "GJ_CQDR8dVYS"
      }
    },
    {
      "cell_type": "markdown",
      "source": [
        "Crie um programa que solicite ao usuário o valor da conta em um restaurante e a porcentagem de uma gorjeta desejada.\n",
        "\n",
        "Calcule o valor da gorjeta e a conta total, em seguida, exiba os resultados com uma mensagem usando a função print."
      ],
      "metadata": {
        "id": "SJ-tiVKldx8i"
      }
    },
    {
      "cell_type": "code",
      "source": [
        "#Para esse programa, teremos os seguintes passos:\n",
        "\n",
        "#1. Entrada: Valor, porcentagem de gorjeta\n",
        "#2. Processamento: Cálculo da gorjeta\n",
        "#3. Saída: Exibe o resultado"
      ],
      "metadata": {
        "id": "47K5zBu3d4ic"
      },
      "execution_count": null,
      "outputs": []
    },
    {
      "cell_type": "code",
      "source": [
        "#Obs: todos os dados inseridos na função input saem como strings, dessa forma é necessário realizar a transformação do valor recebido.\n",
        "\n",
        "#Entrada\n",
        "valor_conta = float(input(\"Digite o valor da conta: R$ \"))\n",
        "valor_gorjeta = float(input(\"Digite o percentual de gorjeta: \"))\n",
        "\n",
        "#Processamento: Cálculo da gorjeta\n",
        "gorjeta = valor_conta * (valor_gorjeta / 100)\n",
        "conta_total = valor_conta + gorjeta\n",
        "\n",
        "#Saída: Resultado\n",
        "print(f'Gorjeta: R$ {gorjeta:.2f}')\n",
        "print(f'Valor total da conta: R$ {conta_total:.2f}')"
      ],
      "metadata": {
        "colab": {
          "base_uri": "https://localhost:8080/"
        },
        "id": "MEyVfn4_fDt8",
        "outputId": "27d7a984-3d24-4f53-8065-e3ba3a3c87e8"
      },
      "execution_count": null,
      "outputs": [
        {
          "output_type": "stream",
          "name": "stdout",
          "text": [
            "Digite o valor da conta: R$ 125.35\n",
            "Digite o percentual de gorjeta: 12.52\n",
            "Gorjeta: R$ 15.69\n",
            "Valor total da conta: R$ 141.04\n"
          ]
        }
      ]
    },
    {
      "cell_type": "markdown",
      "source": [
        "##**Projeto 02 - Conversor de Temperatura**"
      ],
      "metadata": {
        "id": "S9bHUOujiRvH"
      }
    },
    {
      "cell_type": "markdown",
      "source": [
        "Peça ao usuário para fornecer uma temperatura em graus Celsius. Converta essa temperatura para graus Fahrenheit usando a fórmula F = (C*9/5)+32 e exiba o resultado usando print."
      ],
      "metadata": {
        "id": "7c1dWayIIEEE"
      }
    },
    {
      "cell_type": "code",
      "source": [
        "#Para esse programa teremos os seguintes passos:\n",
        "\n",
        "#1. Entrada: valor da temperatura em Celsius\n",
        "#2. Processamento: Cálculo da conversão\n",
        "#3. Saída: Exibe o resultado"
      ],
      "metadata": {
        "id": "TwY1fpa3ia1X"
      },
      "execution_count": null,
      "outputs": []
    },
    {
      "cell_type": "code",
      "source": [
        "#Entrada\n",
        "temp_celsius = float(input('Digite o valor da temperatura em Celcius: '))\n",
        "\n",
        "#Converter\n",
        "temp_fahrenheit = (temp_celsius * 9/5) + 32\n",
        "\n",
        "#Saída\n",
        "\n",
        "print(f'Temperatura em Fahrenheit: {temp_fahrenheit:.2f}°F')\n"
      ],
      "metadata": {
        "colab": {
          "base_uri": "https://localhost:8080/"
        },
        "id": "iknN9J9dKoJY",
        "outputId": "67e75b94-8128-4e36-e93d-7ccb1ad0d567"
      },
      "execution_count": null,
      "outputs": [
        {
          "output_type": "stream",
          "name": "stdout",
          "text": [
            "Digite o valor da temperatura em Celcius: 37\n",
            "Temperatura em Fahrenheit: 98.60°F\n"
          ]
        }
      ]
    },
    {
      "cell_type": "markdown",
      "source": [
        "##**Projeto 03 - Conversor de moedas**"
      ],
      "metadata": {
        "id": "u40f6yIDMNjQ"
      }
    },
    {
      "cell_type": "markdown",
      "source": [
        "Converta uma quantidade de dinheiro de uma moeda em Real para outra. Peça ao usuário para inserir o valor em reais e converta em Dólares"
      ],
      "metadata": {
        "id": "j7BccB8_MabD"
      }
    },
    {
      "cell_type": "code",
      "source": [
        "#Para esse programa teremos os seguintes passos:\n",
        "\n",
        "#1. Entrada: valor da moeda\n",
        "#2. Processamento: Cálculo da conversão para dólar\n",
        "#3. Saída: Exibe o resultado"
      ],
      "metadata": {
        "id": "LzEFNEcrMUgf"
      },
      "execution_count": null,
      "outputs": []
    },
    {
      "cell_type": "code",
      "source": [
        "#Entrada: Fornecendo o valor em real\n",
        "\n",
        "valor_real = float(input('Digite o valor em Reais: R$ '))\n",
        "taxa_cambio = 0.2\n",
        "\n",
        "#Converter\n",
        "valor_dolar = valor_real * taxa_cambio\n",
        "\n",
        "#Exibir o resultado na tela\n",
        "\n",
        "print(f'Valor de R$ {valor_real:.2f} em Dólar é: $ {valor_dolar:.2f}')\n"
      ],
      "metadata": {
        "colab": {
          "base_uri": "https://localhost:8080/"
        },
        "id": "_Py8D7giMvhl",
        "outputId": "2433a697-b380-498b-8b66-94f1b7947044"
      },
      "execution_count": null,
      "outputs": [
        {
          "output_type": "stream",
          "name": "stdout",
          "text": [
            "Digite o valor em Reais: R$ 100\n",
            "Valor de R$ 100.00 em Dólar é: $ 20.00\n"
          ]
        }
      ]
    },
    {
      "cell_type": "markdown",
      "source": [
        "##**Projeto 04 - Calculadora de desconco de compras**"
      ],
      "metadata": {
        "id": "mKtB9tcWBt3F"
      }
    },
    {
      "cell_type": "markdown",
      "source": [
        "Peça ao usuário para inserir o preço de um produto e o percentual de desconto que desejam aplicar. Calcular o valor do desconto e o preço final do produto com desconto, imprima os resultados."
      ],
      "metadata": {
        "id": "8Vc1CmzsBz08"
      }
    },
    {
      "cell_type": "code",
      "source": [
        "#Para esse programa teremos os seguintes passos:\n",
        "\n",
        "#1. Entrada: preço do produto e percentual de desconto a ser aplicado\n",
        "#2. Processamento: Cálculo do valor do desconto e preço final do produto após o desconto aplicado\n",
        "#3. Saída: Exibe o valor final do produto com desconto e o valor do desconto"
      ],
      "metadata": {
        "id": "V8gAU92FBzA9"
      },
      "execution_count": null,
      "outputs": []
    },
    {
      "cell_type": "code",
      "source": [
        "#Inserir os valores: produto e percentual de desconto\n",
        "\n",
        "valor_inicial = float(input('Insira o valor do produto: R$ '))\n",
        "percentual_desconto = float(input('Digite o valor do percentual de desconto: '))\n",
        "\n",
        "#Cálculos\n",
        "\n",
        "valor_desconto = valor_inicial * (percentual_desconto * 0.01)\n",
        "valor_final = valor_inicial - valor_desconto\n",
        "\n",
        "#Exibir os resultados\n",
        "\n",
        "print(f'Valor do produto: R$ {valor_inicial:.2f}')\n",
        "print(f'Valor do desconto: R$ {valor_desconto:.2f}')\n",
        "print(f'Valor final do produto: R$ {valor_final:.2f}')"
      ],
      "metadata": {
        "colab": {
          "base_uri": "https://localhost:8080/"
        },
        "id": "8DYYRTaMDPjz",
        "outputId": "30073c7f-5598-475e-9c26-a85790fed939"
      },
      "execution_count": null,
      "outputs": [
        {
          "output_type": "stream",
          "name": "stdout",
          "text": [
            "Insira o valor do produto: R$ 125\n",
            "Digite o valor do percentual de desconto: 12\n",
            "Valor do produto: R$ 125.00\n",
            "Valor do desconto: R$ 15.00\n",
            "Valor final do produto: R$ 110.00\n"
          ]
        }
      ]
    }
  ]
}